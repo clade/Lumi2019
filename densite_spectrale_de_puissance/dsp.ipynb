{
 "cells": [
  {
   "cell_type": "code",
   "execution_count": null,
   "metadata": {
    "collapsed": true
   },
   "outputs": [],
   "source": [
    "%matplotlib inline\n",
    "import matplotlib.pyplot as plt\n",
    "import numpy as np"
   ]
  },
  {
   "cell_type": "markdown",
   "metadata": {},
   "source": [
    "## Densité spectrale du bruit d'une machine à laver"
   ]
  },
  {
   "cell_type": "code",
   "execution_count": null,
   "metadata": {
    "collapsed": true
   },
   "outputs": [],
   "source": [
    "from scipy.io.wavfile import read\n",
    "samplerate, amplitude = read('data/machine_a_laver.wav')"
   ]
  },
  {
   "cell_type": "code",
   "execution_count": null,
   "metadata": {
    "collapsed": true
   },
   "outputs": [],
   "source": []
  },
  {
   "cell_type": "code",
   "execution_count": null,
   "metadata": {
    "collapsed": true
   },
   "outputs": [],
   "source": [
    "from scipy.signal import periodogram\n",
    "freq, psd = periodogram(amplitude, samplerate, )"
   ]
  },
  {
   "cell_type": "code",
   "execution_count": null,
   "metadata": {
    "collapsed": true
   },
   "outputs": [],
   "source": []
  },
  {
   "cell_type": "code",
   "execution_count": null,
   "metadata": {
    "collapsed": true
   },
   "outputs": [],
   "source": []
  },
  {
   "cell_type": "markdown",
   "metadata": {},
   "source": [
    "## Filtre en Python"
   ]
  },
  {
   "cell_type": "code",
   "execution_count": null,
   "metadata": {
    "collapsed": true
   },
   "outputs": [],
   "source": [
    "samplerate = 44100\n",
    "signal = zeros(samplerate*3)\n",
    "signal[samplerate:samplerate*2)] = 1\n",
    "plot(signal)"
   ]
  },
  {
   "cell_type": "code",
   "execution_count": null,
   "metadata": {
    "collapsed": true
   },
   "outputs": [],
   "source": [
    "import numpy as np\n",
    "signal_tilde = np.fft.rfft(signal)\n",
    "signal_2 = np.fft.irfft(signal_tilde)\n",
    "plt.plot(signal_2)"
   ]
  },
  {
   "cell_type": "code",
   "execution_count": null,
   "metadata": {
    "collapsed": true
   },
   "outputs": [],
   "source": []
  },
  {
   "cell_type": "code",
   "execution_count": null,
   "metadata": {
    "collapsed": true
   },
   "outputs": [],
   "source": [
    "def pass_bas(signal, f_c, samplerate=44100):\n",
    "    signal_tilde = np.fft.rfft(signal)\n",
    "    freqs = np.fft.rfftfreq(len(signal), 1/samplerate)\n",
    "    H = 1/(1+1J*(freqs/f_c))\n",
    "    signal_2 = np.fft.irfft(H*signal_tilde)\n",
    "    return signal_2"
   ]
  },
  {
   "cell_type": "code",
   "execution_count": null,
   "metadata": {
    "collapsed": true
   },
   "outputs": [],
   "source": []
  },
  {
   "cell_type": "markdown",
   "metadata": {},
   "source": [
    "## Onde gravitationnelle"
   ]
  },
  {
   "cell_type": "code",
   "execution_count": null,
   "metadata": {
    "collapsed": true
   },
   "outputs": [],
   "source": [
    "from readligo import loaddata\n",
    "filename_H1 = 'data/H-H1_LOSC_4_V1-1126259446-32.hdf5'\n",
    "strain_H1, time_H1, chan_dict_H1 = loaddata(filename_H1, 'H1')"
   ]
  },
  {
   "cell_type": "code",
   "execution_count": null,
   "metadata": {
    "collapsed": true
   },
   "outputs": [],
   "source": []
  },
  {
   "cell_type": "code",
   "execution_count": null,
   "metadata": {
    "collapsed": true
   },
   "outputs": [],
   "source": [
    "f, psd = welch(strain_H1, samplerate, nperseg=samplerate)"
   ]
  },
  {
   "cell_type": "code",
   "execution_count": null,
   "metadata": {
    "collapsed": true
   },
   "outputs": [],
   "source": []
  },
  {
   "cell_type": "code",
   "execution_count": null,
   "metadata": {
    "collapsed": true
   },
   "outputs": [],
   "source": [
    "from scipy.interpolate import interp1d    \n",
    "\n",
    "def whiten(strain, dt):\n",
    "    freqs_welch, psd_welch = welch(strain, fs=1/dt, nperseg=int(1/dt))\n",
    "    interp_psd = interp1d(freqs_welch, psd_welch)\n",
    "\n",
    "    strain_tilde = np.fft.rfft(strain)\n",
    "    N = len(strain)\n",
    "    freqs = np.fft.rfftfreq(N, dt)\n",
    "\n",
    "    gain = 1 / np.sqrt(interp_psd(freqs))\n",
    "    gain = gain/gain.max()\n",
    "    white_strain_tilde = strain_tilde * gain\n",
    "    white_strain = np.fft.irfft(white_strain_tilde)"
   ]
  },
  {
   "cell_type": "code",
   "execution_count": null,
   "metadata": {
    "collapsed": true
   },
   "outputs": [],
   "source": []
  },
  {
   "cell_type": "code",
   "execution_count": null,
   "metadata": {
    "collapsed": true
   },
   "outputs": [],
   "source": []
  }
 ],
 "metadata": {
  "kernelspec": {
   "display_name": "Python [anaconda3]",
   "language": "python",
   "name": "Python [anaconda3]"
  },
  "language_info": {
   "codemirror_mode": {
    "name": "ipython",
    "version": 3
   },
   "file_extension": ".py",
   "mimetype": "text/x-python",
   "name": "python",
   "nbconvert_exporter": "python",
   "pygments_lexer": "ipython3",
   "version": "3.5.2"
  }
 },
 "nbformat": 4,
 "nbformat_minor": 0
}
